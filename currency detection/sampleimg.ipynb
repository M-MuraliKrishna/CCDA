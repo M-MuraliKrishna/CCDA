{
 "cells": [
  {
   "cell_type": "code",
   "execution_count": 9,
   "metadata": {},
   "outputs": [
    {
     "data": {
      "text/plain": [
       "(792.7773794375, -0.6838221791288178, 0.4105291907105384, 6.759256380127854)"
      ]
     },
     "execution_count": 9,
     "metadata": {},
     "output_type": "execute_result"
    }
   ],
   "source": [
    "import cv2\n",
    "import numpy as np\n",
    "from scipy.stats import kurtosis, skew\n",
    "from scipy import ndimage\n",
    "import skimage.measure\n",
    "def sampleimage(name):\n",
    "    path=\"C:\\Users\\adhyansh\\Downloads\"+name\n",
    "    simg=cv2.imread(path)\n",
    "    sampleimg=[]\n",
    "    def resizeGrayCenter(img):\n",
    "            img = cv2.cvtColor(img, cv2.COLOR_BGR2GRAY)\n",
    "            img = cv2.resize(img, (600, 300), interpolation = cv2.INTER_AREA)\n",
    "            img = img - img.mean()\n",
    "            return img\n",
    "    \n",
    "    simg = resizeGrayCenter(simg)\n",
    "    # cv2.imshow('img',simg)\n",
    "    # cv2.waitKey(0)\n",
    "    sampleimg.append((np.var(simg),skew(simg,axis=None),kurtosis(simg,axis=None),skimage.measure.shannon_entropy(simg)))\n",
    "    return sampleimg[0]\n",
    "v,s,k,e=sampleimage(\"2kd1.jpg\")"
   ]
  },
  {
   "cell_type": "code",
   "execution_count": null,
   "metadata": {},
   "outputs": [],
   "source": [
    "new_banknote = pd.DataFrame({'variance':[v],'skewness':[s],'kurtosis':[k],'entropy':[e]})\n",
    "\n",
    "# print(f'Prediction:  Class{knn.predict(new_banknote)}')\n",
    "if knn.predict(new_banknote)==1:\n",
    "    print(\"Note is real\")\n",
    "else:\n",
    "    print(\"Note is fake\")"
   ]
  }
 ],
 "metadata": {
  "kernelspec": {
   "display_name": "Python 3",
   "language": "python",
   "name": "python3"
  },
  "language_info": {
   "codemirror_mode": {
    "name": "ipython",
    "version": 3
   },
   "file_extension": ".py",
   "mimetype": "text/x-python",
   "name": "python",
   "nbconvert_exporter": "python",
   "pygments_lexer": "ipython3",
   "version": "3.7.4"
  }
 },
 "nbformat": 4,
 "nbformat_minor": 2
}
